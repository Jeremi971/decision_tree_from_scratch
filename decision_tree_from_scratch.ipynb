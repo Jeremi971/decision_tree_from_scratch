{
  "cells": [
    {
      "cell_type": "markdown",
      "metadata": {
        "id": "nkQlFEUx6IXH"
      },
      "source": [
        "# Construction d'un Arbre de Décision Manuel\n",
        "\n",
        "Dans ce notebook, nous allons construire manuellement un arbre de décision pour classer les fleurs Iris en fonction de leurs caractéristiques.\n",
        "\n"
      ]
    },
    {
      "cell_type": "markdown",
      "metadata": {
        "id": "CGGOpH2d6Vq6"
      },
      "source": [
        "## Importation des bibliothèques nécessaires"
      ]
    },
    {
      "cell_type": "code",
      "execution_count": 1,
      "metadata": {
        "id": "0IJKBW5O8xhb"
      },
      "outputs": [],
      "source": [
        "import numpy as np\n",
        "import pandas as pd\n",
        "from sklearn.utils import shuffle\n",
        "from pprint import pprint\n",
        "# numpy (np) : Bibliothèque pour les opérations mathématiques efficaces.\n",
        "# pandas (pd) : Utilisé pour manipuler et analyser les données tabulaires.\n",
        "# shuffle de sklearn.utils : Utilisé pour mélanger les données.\n",
        "# pprint : Pretty Print, utilisé pour afficher les structures de données de manière plus lisible.\n"
      ]
    },
    {
      "cell_type": "markdown",
      "metadata": {
        "id": "gyGFGPBG6j8C"
      },
      "source": [
        "# Chargement et préparation des données"
      ]
    },
    {
      "cell_type": "code",
      "execution_count": 2,
      "metadata": {
        "id": "bbsTTp8t80WB"
      },
      "outputs": [],
      "source": [
        "df = pd.read_csv('data\\iris.csv')\n",
        "df_shuffled = shuffle(df, random_state=200)\n",
        "train = df_shuffled.sample(frac=0.8, random_state=200)\n",
        "test = df_shuffled.drop(train.index)\n",
        "# read_csv de pandas : Utilisé pour lire les données à partir d'un fichier CSV.\n",
        "# shuffle : Utilisé pour mélanger les données, en particulier lors de l'entraînement des modèles."
      ]
    },
    {
      "cell_type": "markdown",
      "metadata": {
        "id": "N8_GM5vy6uAu"
      },
      "source": [
        "#Fonctions pour la Construction de l'Arbre\n",
        "\n",
        "\n",
        "1.   calculate_best_threshold : Fonction pour déterminer le meilleur seuil de division d'un nœud en fonction du critère Gini.\n",
        "2.   creation_of_a_node : Fonction pour créer un nœud avec des informations spécifiques.\n",
        "3.   creation_of_a_conditional_node : Fonction pour créer un nœud conditionnel en fonction du meilleur seuil.\n",
        "4.   creation_of_the_tree : Fonction principale pour créer l'arbre de décision de manière récursive jusqu'à une certaine profondeur.\n",
        "\n",
        "\n",
        "\n",
        "\n"
      ]
    },
    {
      "cell_type": "code",
      "execution_count": 3,
      "metadata": {
        "id": "-utcKWNC9Hmz"
      },
      "outputs": [],
      "source": [
        "def calculate_best_threshold(data, target):\n",
        "    # Sélection des caractéristiques (colonnes) à partir des données\n",
        "    features = data.loc[:, data.columns != target]\n",
        "\n",
        "    # Dictionnaire pour stocker les seuils possibles pour chaque caractéristique\n",
        "    thresholds = {}\n",
        "\n",
        "    # Initialisation des meilleures valeurs\n",
        "    best_threshold = None\n",
        "    best_gini = float('inf')  # Initialisé à l'infini pour garantir une mise à jour lors de la première itération\n",
        "    best_feature = None\n",
        "    best_left_population = None\n",
        "    best_right_population = None\n",
        "    best_left_gini = None\n",
        "    best_right_gini = None\n",
        "    best_left_node = pd.DataFrame()\n",
        "    best_right_node = pd.DataFrame()\n",
        "\n",
        "    # Boucle à travers chaque caractéristique\n",
        "    for feature in features:\n",
        "        # Tri des valeurs de la caractéristique pour obtenir les seuils possibles\n",
        "        sorted_values = data[feature].sort_values().values\n",
        "        thresholds[feature] = (sorted_values[:-1] + sorted_values[1:]) / 2\n",
        "\n",
        "        # Boucle à travers chaque seuil\n",
        "        for threshold in thresholds[feature]:\n",
        "            # Séparation des données en nœuds gauche et droit selon le seuil\n",
        "            left_node = data[data[feature] > threshold]\n",
        "            right_node = data[data[feature] <= threshold]\n",
        "\n",
        "            # Calcul des populations et des Gini pour les nœuds gauche et droit\n",
        "            left_population = left_node[target].value_counts() / len(left_node)\n",
        "            right_population = right_node[target].value_counts() / len(right_node)\n",
        "\n",
        "            left_gini = 1 - (left_population**2).sum()\n",
        "            right_gini = 1 - (right_population**2).sum()\n",
        "\n",
        "            # Calcul du Gini total en combinant les Gini des nœuds gauche et droit\n",
        "            total_gini = left_gini * len(left_node) / len(data) + right_gini * len(right_node) / len(data)\n",
        "\n",
        "            # Mise à jour des meilleures valeurs si le Gini total est plus bas\n",
        "            if total_gini < best_gini:\n",
        "                best_gini = total_gini\n",
        "                best_threshold = threshold\n",
        "                best_feature = feature\n",
        "                best_left_population = dict(left_population)\n",
        "                best_right_population = dict(right_population)\n",
        "                best_left_gini = left_gini\n",
        "                best_right_gini = right_gini\n",
        "                best_left_node = left_node.copy()\n",
        "                best_right_node = right_node.copy()\n",
        "\n",
        "    # Retourne un dictionnaire contenant les meilleures valeurs trouvées\n",
        "    return {\n",
        "        'best_threshold': best_threshold,\n",
        "        'best_gini': best_gini,\n",
        "        'best_feature': best_feature,\n",
        "        'left_population': best_left_population,\n",
        "        'right_population': best_right_population,\n",
        "        'left_gini': best_left_gini,\n",
        "        'right_gini': best_right_gini,\n",
        "        'left_node': best_left_node,\n",
        "        'right_node': best_right_node,\n",
        "    }\n"
      ]
    },
    {
      "cell_type": "code",
      "execution_count": 4,
      "metadata": {
        "id": "cdkxfYYF9M1b"
      },
      "outputs": [],
      "source": [
        "def creation_of_a_node(left_population, left_gini, right_population, right_gini):\n",
        "    node = {\n",
        "        'Profondeur': 0,\n",
        "        'Populations de gauche': left_population,\n",
        "        'Etat noeud gauche': 'Leaf node 🌿' if left_population is not None and len(left_population) == 1 else 'Simple node 🪢',\n",
        "        'Gini de gauche': left_gini,\n",
        "        'Populations de droite': right_population,\n",
        "        'Etat noeud droit': 'Leaf node 🌿' if right_population is not None and len(right_population) == 1 else 'Simple node 🪢',\n",
        "        'Gini de droite': right_gini,\n",
        "        'Prédiction gauche': max(left_population, key=left_population.get) if left_population is not None else None,\n",
        "        'Prédiction droite': max(right_population, key=right_population.get) if right_population is not None else None\n",
        "    }\n",
        "    return node\n"
      ]
    },
    {
      "cell_type": "code",
      "execution_count": 5,
      "metadata": {
        "id": "Flam7dRd9QYM"
      },
      "outputs": [],
      "source": [
        "def creation_of_a_conditional_node(data, target, best_feature, best_threshold):\n",
        "    population = dict(data[target].value_counts() / len(data[target]))\n",
        "    conditional_node = {\n",
        "        'Profondeur': 0,\n",
        "        'Populations': population,\n",
        "        'Condition': f'{best_feature} > {best_threshold}'\n",
        "    }\n",
        "    return conditional_node"
      ]
    },
    {
      "cell_type": "code",
      "execution_count": 6,
      "metadata": {
        "colab": {
          "base_uri": "https://localhost:8080/"
        },
        "id": "Aj-wSsx0yuMF",
        "outputId": "99138635-7765-4bec-874b-25797e1eac1a"
      },
      "outputs": [
        {
          "name": "stdout",
          "output_type": "stream",
          "text": [
            "[   {'Condition': 'petal.length > 1.9', 'Populations': {'Setosa': 0.325, 'Versicolor': 0.35833333333333334, 'Virginica': 0.31666666666666665}, 'Profondeur': 0},\n",
            "    {   'Etat noeud droit': 'Leaf node 🌿',\n",
            "        'Etat noeud gauche': 'Simple node 🪢',\n",
            "        'Gini de droite': 0.0,\n",
            "        'Gini de gauche': 0.4980948026215516,\n",
            "        'Populations de droite': {'Setosa': 1.0},\n",
            "        'Populations de gauche': {'Versicolor': 0.5308641975308642, 'Virginica': 0.4691358024691358},\n",
            "        'Profondeur': 1,\n",
            "        'Prédiction droite': 'Setosa',\n",
            "        'Prédiction gauche': 'Versicolor'},\n",
            "    {'Condition': 'petal.length > 4.9', 'Populations': {'Versicolor': 0.5308641975308642, 'Virginica': 0.4691358024691358}, 'Profondeur': 1},\n",
            "    {   'Etat noeud droit': 'Simple node 🪢',\n",
            "        'Etat noeud gauche': 'Simple node 🪢',\n",
            "        'Gini de droite': 0.15879017013232533,\n",
            "        'Gini de gauche': 0.05551020408163265,\n",
            "        'Populations de droite': {'Versicolor': 0.9130434782608695, 'Virginica': 0.08695652173913043},\n",
            "        'Populations de gauche': {'Versicolor': 0.02857142857142857, 'Virginica': 0.9714285714285714},\n",
            "        'Profondeur': 2,\n",
            "        'Prédiction droite': 'Versicolor',\n",
            "        'Prédiction gauche': 'Virginica'},\n",
            "    {'Condition': 'petal.length > 5.0', 'Populations': {'Versicolor': 0.02857142857142857, 'Virginica': 0.9714285714285714}, 'Profondeur': 2},\n",
            "    {   'Etat noeud droit': 'Simple node 🪢',\n",
            "        'Etat noeud gauche': 'Leaf node 🌿',\n",
            "        'Gini de droite': 0.375,\n",
            "        'Gini de gauche': 0.0,\n",
            "        'Populations de droite': {'Versicolor': 0.25, 'Virginica': 0.75},\n",
            "        'Populations de gauche': {'Virginica': 1.0},\n",
            "        'Profondeur': 3,\n",
            "        'Prédiction droite': 'Virginica',\n",
            "        'Prédiction gauche': 'Virginica'},\n",
            "    {'Condition': 'petal.width > 1.6', 'Populations': {'Versicolor': 0.9130434782608695, 'Virginica': 0.08695652173913043}, 'Profondeur': 2},\n",
            "    {   'Etat noeud droit': 'Leaf node 🌿',\n",
            "        'Etat noeud gauche': 'Simple node 🪢',\n",
            "        'Gini de droite': 0.0,\n",
            "        'Gini de gauche': 0.31999999999999984,\n",
            "        'Populations de droite': {'Versicolor': 1.0},\n",
            "        'Populations de gauche': {'Versicolor': 0.2, 'Virginica': 0.8},\n",
            "        'Profondeur': 3,\n",
            "        'Prédiction droite': 'Versicolor',\n",
            "        'Prédiction gauche': 'Virginica'}]\n"
          ]
        }
      ],
      "source": [
        "def creation_of_the_tree(depth, data, target, tree=None, current_depth=0):\n",
        "    # Initialisation de l'arbre s'il est None\n",
        "    if tree is None:\n",
        "        tree = []\n",
        "\n",
        "    # Condition d'arrêt : profondeur atteinte\n",
        "    if depth == 0:\n",
        "        return tree\n",
        "\n",
        "    # Calcul des informations sur le meilleur seuil\n",
        "    info = calculate_best_threshold(data, target)\n",
        "\n",
        "    # Vérifier la condition indésirable\n",
        "    if (info['left_gini'] == 0 and info['right_gini'] == 1) or (info['left_gini'] == 1 and info['right_gini'] == 0):\n",
        "        return tree  # Éviter de construire des nœuds supplémentaires\n",
        "\n",
        "    if not (info['left_gini'] == 0 and info['right_gini'] == 0) and info['left_gini'] is not None:\n",
        "        # Création du nœud conditionnel\n",
        "        conditional_node = creation_of_a_conditional_node(data=data,\n",
        "                                                          target=target,\n",
        "                                                          best_feature=info['best_feature'],\n",
        "                                                          best_threshold=info['best_threshold'])\n",
        "        if conditional_node not in tree:\n",
        "            tree.append(conditional_node)\n",
        "            conditional_node['Profondeur'] = current_depth\n",
        "\n",
        "            # Création du nœud\n",
        "            node = creation_of_a_node(left_population=info['left_population'],\n",
        "                                      left_gini=info['left_gini'],\n",
        "                                      right_population=info['right_population'],\n",
        "                                      right_gini=info['right_gini'])\n",
        "            if node not in tree:\n",
        "                tree.append(node)\n",
        "                node['Profondeur'] = current_depth + 1  # incrémenter pour les nœuds enfants\n",
        "\n",
        "    # Appels récursifs pour les nœuds gauche et droit avec la profondeur mise à jour\n",
        "    tree = creation_of_the_tree(depth=depth - 1, data=info['left_node'], target=target, tree=tree,\n",
        "                                current_depth=current_depth + 1)\n",
        "    tree = creation_of_the_tree(depth=depth - 1, data=info['right_node'], target=target, tree=tree,\n",
        "                                current_depth=current_depth + 1)\n",
        "\n",
        "    return tree\n",
        "\n",
        "# Appel de la fonction\n",
        "result_tree = creation_of_the_tree(depth=5, data=train, target='variety')\n",
        "pprint(result_tree, width=200, indent=4)\n"
      ]
    }
  ],
  "metadata": {
    "colab": {
      "provenance": []
    },
    "kernelspec": {
      "display_name": "Python 3",
      "name": "python3"
    },
    "language_info": {
      "name": "python"
    }
  },
  "nbformat": 4,
  "nbformat_minor": 0
}
