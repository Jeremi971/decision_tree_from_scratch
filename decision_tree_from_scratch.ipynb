{
  "cells": [
    {
      "cell_type": "markdown",
      "metadata": {
        "id": "nkQlFEUx6IXH"
      },
      "source": [
        "# Construction d'un Arbre de Décision Manuel\n",
        "\n",
        "Dans ce notebook, nous allons construire manuellement un arbre de décision pour classer les fleurs Iris en fonction de leurs caractéristiques.\n",
        "\n"
      ]
    },
    {
      "cell_type": "markdown",
      "metadata": {
        "id": "CGGOpH2d6Vq6"
      },
      "source": [
        "## Importation des bibliothèques nécessaires"
      ]
    },
    {
      "cell_type": "code",
      "execution_count": 63,
      "metadata": {
        "id": "0IJKBW5O8xhb"
      },
      "outputs": [],
      "source": [
        "import numpy as np\n",
        "import pandas as pd\n",
        "from sklearn.utils import shuffle\n",
        "from sklearn.metrics import confusion_matrix\n",
        "from pprint import pprint\n",
        "# numpy (np) : Bibliothèque pour les opérations mathématiques efficaces.\n",
        "# pandas (pd) : Utilisé pour manipuler et analyser les données tabulaires.\n",
        "# shuffle de sklearn.utils : Utilisé pour mélanger les données.\n",
        "# pprint : Pretty Print, utilisé pour afficher les structures de données de manière plus lisible.\n"
      ]
    },
    {
      "cell_type": "markdown",
      "metadata": {
        "id": "gyGFGPBG6j8C"
      },
      "source": [
        "# Chargement et préparation des données"
      ]
    },
    {
      "cell_type": "code",
      "execution_count": 64,
      "metadata": {
        "id": "bbsTTp8t80WB"
      },
      "outputs": [],
      "source": [
        "df = pd.read_csv('data/iris.csv')\n",
        "df_shuffled = shuffle(df, random_state=200)\n",
        "train = df_shuffled.sample(frac=0.8, random_state=200) # type: ignore\n",
        "test = df_shuffled.drop(train.index) # type: ignore\n",
        "# read_csv de pandas : Utilisé pour lire les données à partir d'un fichier CSV.\n",
        "# shuffle : Utilisé pour mélanger les données, en particulier lors de l'entraînement des modèles."
      ]
    },
    {
      "cell_type": "markdown",
      "metadata": {
        "id": "N8_GM5vy6uAu"
      },
      "source": [
        "#Fonctions pour la Construction de l'Arbre\n",
        "\n",
        "\n",
        "1.   calculate_best_threshold : Fonction pour déterminer le meilleur seuil de division d'un nœud en fonction du critère Gini.\n",
        "2.   creation_of_a_node : Fonction pour créer un nœud avec des informations spécifiques.\n",
        "3.   creation_of_a_conditional_node : Fonction pour créer un nœud conditionnel en fonction du meilleur seuil.\n",
        "4.   creation_of_the_tree : Fonction principale pour créer l'arbre de décision de manière récursive jusqu'à une certaine profondeur.\n",
        "\n",
        "\n",
        "\n",
        "\n"
      ]
    },
    {
      "cell_type": "code",
      "execution_count": 65,
      "metadata": {
        "id": "-utcKWNC9Hmz"
      },
      "outputs": [],
      "source": [
        "def calculate_best_threshold(data, target):\n",
        "    # Sélection des caractéristiques (colonnes) à partir des données\n",
        "    features = data.loc[:, data.columns != target]\n",
        "\n",
        "    # Dictionnaire pour stocker les seuils possibles pour chaque caractéristique\n",
        "    thresholds = {}\n",
        "\n",
        "    # Initialisation des meilleures valeurs\n",
        "    best_threshold = None\n",
        "    best_gini = float('inf')  # Initialisé à l'infini pour garantir une mise à jour lors de la première itération\n",
        "    best_feature = None\n",
        "    best_left_population = None\n",
        "    best_right_population = None\n",
        "    best_left_gini = None\n",
        "    best_right_gini = None\n",
        "    best_left_node = pd.DataFrame()\n",
        "    best_right_node = pd.DataFrame()\n",
        "\n",
        "    # Boucle à travers chaque caractéristique\n",
        "    for feature in features:\n",
        "        # Tri des valeurs de la caractéristique pour obtenir les seuils possibles\n",
        "        sorted_values = data[feature].sort_values().values\n",
        "        thresholds[feature] = (sorted_values[:-1] + sorted_values[1:]) / 2\n",
        "\n",
        "        # Boucle à travers chaque seuil\n",
        "        for threshold in thresholds[feature]:\n",
        "            # Séparation des données en nœuds gauche et droit selon le seuil\n",
        "            left_node = data[data[feature] > threshold]\n",
        "            right_node = data[data[feature] <= threshold]\n",
        "\n",
        "            # Calcul des populations et des Gini pour les nœuds gauche et droit\n",
        "            left_population = left_node[target].value_counts() / len(left_node)\n",
        "            right_population = right_node[target].value_counts() / len(right_node)\n",
        "\n",
        "            left_gini = 1 - (left_population**2).sum()\n",
        "            right_gini = 1 - (right_population**2).sum()\n",
        "\n",
        "            # Calcul du Gini total en combinant les Gini des nœuds gauche et droit\n",
        "            total_gini = left_gini * len(left_node) / len(data) + right_gini * len(right_node) / len(data)\n",
        "\n",
        "            # Mise à jour des meilleures valeurs si le Gini total est plus bas\n",
        "            if total_gini < best_gini:\n",
        "                best_gini = total_gini\n",
        "                best_threshold = threshold\n",
        "                best_feature = feature\n",
        "                best_left_population = dict(left_population)\n",
        "                best_right_population = dict(right_population)\n",
        "                best_left_gini = left_gini\n",
        "                best_right_gini = right_gini\n",
        "                best_left_node = left_node.copy()\n",
        "                best_right_node = right_node.copy()\n",
        "\n",
        "    # Retourne un dictionnaire contenant les meilleures valeurs trouvées\n",
        "    return {\n",
        "        'best_threshold': best_threshold,\n",
        "        'best_gini': best_gini,\n",
        "        'best_feature': best_feature,\n",
        "        'left_population': best_left_population,\n",
        "        'right_population': best_right_population,\n",
        "        'left_gini': best_left_gini,\n",
        "        'right_gini': best_right_gini,\n",
        "        'left_node': best_left_node,\n",
        "        'right_node': best_right_node,\n",
        "    }\n"
      ]
    },
    {
      "cell_type": "code",
      "execution_count": 66,
      "metadata": {
        "id": "cdkxfYYF9M1b"
      },
      "outputs": [],
      "source": [
        "def creation_of_a_node(left_population, left_gini, right_population, right_gini):\n",
        "    node = {\n",
        "        'Profondeur': 0,\n",
        "        'Populations de gauche': left_population,\n",
        "        'Etat noeud gauche': 'Leaf node 🌿' if left_population is not None and len(left_population) == 1 else 'Simple node 🪢',\n",
        "        'Gini de gauche': left_gini,\n",
        "        'Populations de droite': right_population,\n",
        "        'Etat noeud droit': 'Leaf node 🌿' if right_population is not None and len(right_population) == 1 else 'Simple node 🪢',\n",
        "        'Gini de droite': right_gini,\n",
        "        'Prédiction gauche': max(left_population, key=left_population.get) if left_population is not None else None,\n",
        "        'Prédiction droite': max(right_population, key=right_population.get) if right_population is not None else None\n",
        "    }\n",
        "    return node\n"
      ]
    },
    {
      "cell_type": "code",
      "execution_count": 67,
      "metadata": {
        "id": "Flam7dRd9QYM"
      },
      "outputs": [],
      "source": [
        "def creation_of_a_conditional_node(data, target, best_feature, best_threshold):\n",
        "    population = dict(data[target].value_counts() / len(data[target]))\n",
        "    conditional_node = {\n",
        "        'Profondeur': 0,\n",
        "        'Populations': population,\n",
        "        'Condition': f'{best_feature} > {best_threshold}'\n",
        "    }\n",
        "    return conditional_node"
      ]
    },
    {
      "cell_type": "code",
      "execution_count": 68,
      "metadata": {
        "colab": {
          "base_uri": "https://localhost:8080/"
        },
        "id": "Aj-wSsx0yuMF",
        "outputId": "45996cfc-191c-4ec3-c3d6-2e5d80117027"
      },
      "outputs": [
        {
          "name": "stdout",
          "output_type": "stream",
          "text": [
            "[   {'Condition': 'petal.length > 1.9', 'Populations': {'Setosa': 0.325, 'Versicolor': 0.35833333333333334, 'Virginica': 0.31666666666666665}, 'Profondeur': 0},\n",
            "    {   'Etat noeud droit': 'Leaf node 🌿',\n",
            "        'Etat noeud gauche': 'Simple node 🪢',\n",
            "        'Gini de droite': 0.0,\n",
            "        'Gini de gauche': 0.4980948026215516,\n",
            "        'Populations de droite': {'Setosa': 1.0},\n",
            "        'Populations de gauche': {'Versicolor': 0.5308641975308642, 'Virginica': 0.4691358024691358},\n",
            "        'Profondeur': 1,\n",
            "        'Prédiction droite': 'Setosa',\n",
            "        'Prédiction gauche': 'Versicolor'},\n",
            "    {'Condition': 'petal.length > 4.9', 'Populations': {'Versicolor': 0.5308641975308642, 'Virginica': 0.4691358024691358}, 'Profondeur': 1},\n",
            "    {   'Etat noeud droit': 'Simple node 🪢',\n",
            "        'Etat noeud gauche': 'Simple node 🪢',\n",
            "        'Gini de droite': 0.15879017013232533,\n",
            "        'Gini de gauche': 0.05551020408163265,\n",
            "        'Populations de droite': {'Versicolor': 0.9130434782608695, 'Virginica': 0.08695652173913043},\n",
            "        'Populations de gauche': {'Versicolor': 0.02857142857142857, 'Virginica': 0.9714285714285714},\n",
            "        'Profondeur': 2,\n",
            "        'Prédiction droite': 'Versicolor',\n",
            "        'Prédiction gauche': 'Virginica'},\n",
            "    {'Condition': 'petal.length > 5.0', 'Populations': {'Versicolor': 0.02857142857142857, 'Virginica': 0.9714285714285714}, 'Profondeur': 2},\n",
            "    {   'Etat noeud droit': 'Simple node 🪢',\n",
            "        'Etat noeud gauche': 'Leaf node 🌿',\n",
            "        'Gini de droite': 0.375,\n",
            "        'Gini de gauche': 0.0,\n",
            "        'Populations de droite': {'Versicolor': 0.25, 'Virginica': 0.75},\n",
            "        'Populations de gauche': {'Virginica': 1.0},\n",
            "        'Profondeur': 3,\n",
            "        'Prédiction droite': 'Virginica',\n",
            "        'Prédiction gauche': 'Virginica'},\n",
            "    {'Condition': 'petal.width > 1.6', 'Populations': {'Versicolor': 0.9130434782608695, 'Virginica': 0.08695652173913043}, 'Profondeur': 2},\n",
            "    {   'Etat noeud droit': 'Leaf node 🌿',\n",
            "        'Etat noeud gauche': 'Simple node 🪢',\n",
            "        'Gini de droite': 0.0,\n",
            "        'Gini de gauche': 0.31999999999999984,\n",
            "        'Populations de droite': {'Versicolor': 1.0},\n",
            "        'Populations de gauche': {'Versicolor': 0.2, 'Virginica': 0.8},\n",
            "        'Profondeur': 3,\n",
            "        'Prédiction droite': 'Versicolor',\n",
            "        'Prédiction gauche': 'Virginica'}]\n"
          ]
        }
      ],
      "source": [
        "def creation_of_the_tree(depth, data, target, tree=None, current_depth=0):\n",
        "    # Initialisation de l'arbre s'il est None\n",
        "    if tree is None:\n",
        "        tree = []\n",
        "\n",
        "    # Condition d'arrêt : profondeur atteinte\n",
        "    if depth == 0:\n",
        "        return tree\n",
        "\n",
        "    # Calcul des informations sur le meilleur seuil\n",
        "    info = calculate_best_threshold(data, target)\n",
        "\n",
        "    # Vérifier la condition indésirable\n",
        "    if (info['left_gini'] == 0 and info['right_gini'] == 1) or (info['left_gini'] == 1 and info['right_gini'] == 0):\n",
        "        return tree  # Éviter de construire des nœuds supplémentaires\n",
        "\n",
        "    if not (info['left_gini'] == 0 and info['right_gini'] == 0) and info['left_gini'] is not None:\n",
        "        # Création du nœud conditionnel\n",
        "        conditional_node = creation_of_a_conditional_node(data=data,\n",
        "                                                          target=target,\n",
        "                                                          best_feature=info['best_feature'],\n",
        "                                                          best_threshold=info['best_threshold'])\n",
        "        if conditional_node not in tree:\n",
        "            tree.append(conditional_node)\n",
        "            conditional_node['Profondeur'] = current_depth\n",
        "\n",
        "            # Création du nœud\n",
        "            node = creation_of_a_node(left_population=info['left_population'],\n",
        "                                      left_gini=info['left_gini'],\n",
        "                                      right_population=info['right_population'],\n",
        "                                      right_gini=info['right_gini'])\n",
        "            if node not in tree:\n",
        "                tree.append(node)\n",
        "                node['Profondeur'] = current_depth + 1  # incrémenter pour les nœuds enfants\n",
        "\n",
        "    # Appels récursifs pour les nœuds gauche et droit avec la profondeur mise à jour\n",
        "    tree = creation_of_the_tree(depth=depth - 1, data=info['left_node'], target=target, tree=tree,\n",
        "                                current_depth=current_depth + 1)\n",
        "    tree = creation_of_the_tree(depth=depth - 1, data=info['right_node'], target=target, tree=tree,\n",
        "                                current_depth=current_depth + 1)\n",
        "\n",
        "    return tree\n",
        "\n",
        "# Appel de la fonction\n",
        "result_tree = creation_of_the_tree(depth=5, data=train, target='variety')\n",
        "pprint(result_tree, width=200, indent=4)\n"
      ]
    },
    {
      "cell_type": "markdown",
      "metadata": {
        "id": "qgvz8-l9CVXd"
      },
      "source": [
        "# Nous allons maintenant évaluer le modèle en commençant par créer une colonne de prédictions."
      ]
    },
    {
      "cell_type": "code",
      "execution_count": 69,
      "metadata": {
        "id": "BMGCxYcbr3hO"
      },
      "outputs": [],
      "source": [
        "def to_predict(tree, row):\n",
        "    conditions, left, right = [], [], []\n",
        "    predictions_dict = {}\n",
        "\n",
        "    for dictionary in tree:\n",
        "        conditions.append(dictionary.get('Condition'))\n",
        "        right.append(dictionary.get('Prédiction droite'))\n",
        "        left.append(dictionary.get('Prédiction gauche'))\n",
        "\n",
        "    conditions = [element for element in conditions if element is not None]\n",
        "    right = [element for element in right if element is not None]\n",
        "    left = [element for element in left if element is not None]\n",
        "\n",
        "    for i in range(len(conditions)):\n",
        "        predictions_dict[conditions[i]] = [right[i], left[i]]\n",
        "  \n",
        "    final_prediction = None  # Initialisez la prédiction finale à None\n",
        "\n",
        "    for key, value in predictions_dict.items():\n",
        "        feature, threshold = key.split(' > ')\n",
        "        threshold = float(threshold)\n",
        "\n",
        "        if row[feature] <= threshold:\n",
        "            final_prediction = value[0]\n",
        "            return final_prediction\n",
        "\n",
        "    for key, value in predictions_dict.items():\n",
        "        feature, threshold = key.split(' > ')\n",
        "        threshold = float(threshold)\n",
        "        if row[feature] > threshold:\n",
        "            final_prediction = value[1]\n",
        "            break  # Sortir de la boucle dès que la condition est satisfaite\n",
        "\n",
        "    if final_prediction is None:\n",
        "        raise ValueError(f'Erreur : la ligne de données n\\'a pas pu être classée car elle ne correspond à aucune des conditions de l\\'arbre.')\n",
        "\n",
        "    return final_prediction\n"
      ]
    },
    {
      "cell_type": "markdown",
      "metadata": {
        "id": "JoHuppRkj1qc"
      },
      "source": [
        "# Prédictions sur le jeu d'entrainement."
      ]
    },
    {
      "cell_type": "code",
      "execution_count": 70,
      "metadata": {
        "id": "SXVD4fgsiOWG"
      },
      "outputs": [],
      "source": [
        "train['predict'] = train.apply(lambda row: to_predict(result_tree, row), axis=1)\n"
      ]
    },
    {
      "cell_type": "code",
      "execution_count": 71,
      "metadata": {
        "colab": {
          "base_uri": "https://localhost:8080/",
          "height": 423
        },
        "id": "8Iq6TohKXufv",
        "outputId": "f629ccf6-eee0-4602-b445-ca153a6b922d"
      },
      "outputs": [
        {
          "data": {
            "text/html": [
              "<div>\n",
              "<style scoped>\n",
              "    .dataframe tbody tr th:only-of-type {\n",
              "        vertical-align: middle;\n",
              "    }\n",
              "\n",
              "    .dataframe tbody tr th {\n",
              "        vertical-align: top;\n",
              "    }\n",
              "\n",
              "    .dataframe thead th {\n",
              "        text-align: right;\n",
              "    }\n",
              "</style>\n",
              "<table border=\"1\" class=\"dataframe\">\n",
              "  <thead>\n",
              "    <tr style=\"text-align: right;\">\n",
              "      <th></th>\n",
              "      <th>variety</th>\n",
              "      <th>predict</th>\n",
              "    </tr>\n",
              "  </thead>\n",
              "  <tbody>\n",
              "    <tr>\n",
              "      <th>22</th>\n",
              "      <td>Setosa</td>\n",
              "      <td>Setosa</td>\n",
              "    </tr>\n",
              "    <tr>\n",
              "      <th>35</th>\n",
              "      <td>Setosa</td>\n",
              "      <td>Setosa</td>\n",
              "    </tr>\n",
              "    <tr>\n",
              "      <th>141</th>\n",
              "      <td>Virginica</td>\n",
              "      <td>Versicolor</td>\n",
              "    </tr>\n",
              "    <tr>\n",
              "      <th>47</th>\n",
              "      <td>Setosa</td>\n",
              "      <td>Setosa</td>\n",
              "    </tr>\n",
              "    <tr>\n",
              "      <th>65</th>\n",
              "      <td>Versicolor</td>\n",
              "      <td>Versicolor</td>\n",
              "    </tr>\n",
              "    <tr>\n",
              "      <th>...</th>\n",
              "      <td>...</td>\n",
              "      <td>...</td>\n",
              "    </tr>\n",
              "    <tr>\n",
              "      <th>45</th>\n",
              "      <td>Setosa</td>\n",
              "      <td>Setosa</td>\n",
              "    </tr>\n",
              "    <tr>\n",
              "      <th>133</th>\n",
              "      <td>Virginica</td>\n",
              "      <td>Versicolor</td>\n",
              "    </tr>\n",
              "    <tr>\n",
              "      <th>119</th>\n",
              "      <td>Virginica</td>\n",
              "      <td>Virginica</td>\n",
              "    </tr>\n",
              "    <tr>\n",
              "      <th>92</th>\n",
              "      <td>Versicolor</td>\n",
              "      <td>Versicolor</td>\n",
              "    </tr>\n",
              "    <tr>\n",
              "      <th>99</th>\n",
              "      <td>Versicolor</td>\n",
              "      <td>Versicolor</td>\n",
              "    </tr>\n",
              "  </tbody>\n",
              "</table>\n",
              "<p>120 rows × 2 columns</p>\n",
              "</div>"
            ],
            "text/plain": [
              "        variety     predict\n",
              "22       Setosa      Setosa\n",
              "35       Setosa      Setosa\n",
              "141   Virginica  Versicolor\n",
              "47       Setosa      Setosa\n",
              "65   Versicolor  Versicolor\n",
              "..          ...         ...\n",
              "45       Setosa      Setosa\n",
              "133   Virginica  Versicolor\n",
              "119   Virginica   Virginica\n",
              "92   Versicolor  Versicolor\n",
              "99   Versicolor  Versicolor\n",
              "\n",
              "[120 rows x 2 columns]"
            ]
          },
          "execution_count": 71,
          "metadata": {},
          "output_type": "execute_result"
        }
      ],
      "source": [
        "train.iloc[:,-2:]"
      ]
    },
    {
      "cell_type": "code",
      "execution_count": 72,
      "metadata": {
        "id": "m48FQGBkaH3V"
      },
      "outputs": [],
      "source": [
        "# Calcul des TP, TN, FP, FN pour la classe 'Setosa'\n",
        "TP_Setosa = len(train[(train['variety'] == 'Setosa') & (train['predict'] == 'Setosa')])\n",
        "TN_Setosa = len(train[(train['variety'] != 'Setosa') & (train['predict'] != 'Setosa')])\n",
        "FP_Setosa = len(train[(train['variety'] != 'Setosa') & (train['predict'] == 'Setosa')])\n",
        "FN_Setosa = len(train[(train['variety'] == 'Setosa') & (train['predict'] != 'Setosa')])\n",
        "\n",
        "# Calcul des TP, TN, FP, FN pour la classe 'Versicolor'\n",
        "TP_Versicolor = len(train[(train['variety'] == 'Versicolor') & (train['predict'] == 'Versicolor')])\n",
        "TN_Versicolor = len(train[(train['variety'] != 'Versicolor') & (train['predict'] != 'Versicolor')])\n",
        "FP_Versicolor = len(train[(train['variety'] != 'Versicolor') & (train['predict'] == 'Versicolor')])\n",
        "FN_Versicolor = len(train[(train['variety'] == 'Versicolor') & (train['predict'] != 'Versicolor')])\n",
        "\n",
        "# Calcul des TP, TN, FP, FN pour la classe 'Virginica'r\n",
        "TP_Virginica = len(train[(train['variety'] == 'Virginica') & (train['predict'] == 'Virginica')])\n",
        "TN_Virginica = len(train[(train['variety'] != 'Virginica') & (train['predict'] != 'Virginica')])\n",
        "FP_Virginica = len(train[(train['variety'] != 'Virginica') & (train['predict'] == 'Virginica')])\n",
        "FN_Virginica = len(train[(train['variety'] == 'Virginica') & (train['predict'] != 'Virginica')])\n"
      ]
    },
    {
      "cell_type": "code",
      "execution_count": 73,
      "metadata": {
        "id": "q5RcKhbnyiPr"
      },
      "outputs": [],
      "source": [
        "# Métriques pour la classe 'Setosa'\n",
        "precision_for_Setosa = TP_Setosa / (TP_Setosa + FP_Setosa)\n",
        "accuracy_for_Setosa = (TP_Setosa + TN_Setosa) / (TP_Setosa + TN_Setosa + FP_Setosa + FN_Setosa)\n",
        "recall_for_Setosa = TP_Setosa / (TP_Setosa + FN_Setosa)\n",
        "F1_score_for_Setosa = 2 * (precision_for_Setosa * recall_for_Setosa) / (precision_for_Setosa + recall_for_Setosa)\n",
        "specificity_for_Setosa = TN_Setosa / (TN_Setosa + FP_Setosa)\n",
        "\n",
        "# Métriques pour la classe 'Versicolor'\n",
        "precision_for_Versicolor = TP_Versicolor / (TP_Versicolor + FP_Versicolor)\n",
        "accuracy_for_Versicolor = (TP_Versicolor + TN_Versicolor) / (TP_Versicolor + TN_Versicolor + FP_Versicolor + FN_Versicolor)\n",
        "recall_for_Versicolor = TP_Versicolor / (TP_Versicolor + FN_Versicolor)\n",
        "F1_score_for_Versicolor = 2 * (precision_for_Versicolor * recall_for_Versicolor) / (precision_for_Versicolor + recall_for_Versicolor)\n",
        "specificity_for_Versicolor = TN_Versicolor / (TN_Versicolor + FP_Versicolor)\n",
        "\n",
        "# Métriques pour la classe 'Virginica'\n",
        "precision_for_Virginica = TP_Virginica / (TP_Virginica + FP_Virginica)\n",
        "accuracy_for_Virginica = (TP_Virginica + TN_Virginica) / (TP_Virginica + TN_Virginica + FP_Virginica + FN_Virginica)\n",
        "recall_for_Virginica = TP_Virginica / (TP_Virginica + FN_Virginica)\n",
        "F1_score_for_Virginica = 2 * (precision_for_Virginica * recall_for_Virginica) / (precision_for_Virginica + recall_for_Virginica)\n",
        "specificity_for_Virginica = TN_Virginica / (TN_Virginica + FP_Virginica)\n"
      ]
    },
    {
      "cell_type": "code",
      "execution_count": 74,
      "metadata": {
        "colab": {
          "base_uri": "https://localhost:8080/"
        },
        "id": "wyo1WJYMcihL",
        "outputId": "a3cf3187-ff8e-42f7-a2f5-4deab11d3615"
      },
      "outputs": [
        {
          "name": "stdout",
          "output_type": "stream",
          "text": [
            "\n",
            "Metrics for Setosa:\n",
            "Precision: 1.0000\n",
            "Accuracy: 1.0000\n",
            "Recall: 1.0000\n",
            "F1 Score: 1.0000\n",
            "Specificity: 1.0000\n",
            "\n",
            "\n",
            "Metrics for Versicolor:\n",
            "Precision: 0.5455\n",
            "Accuracy: 0.7000\n",
            "Recall: 0.9767\n",
            "F1 Score: 0.7000\n",
            "Specificity: 0.5455\n",
            "\n",
            "\n",
            "Metrics for Virginica:\n",
            "Precision: 0.7500\n",
            "Accuracy: 0.7000\n",
            "Recall: 0.0789\n",
            "F1 Score: 0.1429\n",
            "Specificity: 0.9878\n",
            "\n"
          ]
        }
      ],
      "source": [
        "# Métriques pour la classe 'Setosa'\n",
        "setosa_metrics = f\"\"\"\n",
        "Metrics for Setosa:\n",
        "Precision: {precision_for_Setosa:.4f}\n",
        "Accuracy: {accuracy_for_Setosa:.4f}\n",
        "Recall: {recall_for_Setosa:.4f}\n",
        "F1 Score: {F1_score_for_Setosa:.4f}\n",
        "Specificity: {specificity_for_Setosa:.4f}\n",
        "\"\"\"\n",
        "\n",
        "# Métriques pour la classe 'Versicolor'\n",
        "versicolor_metrics = f\"\"\"\n",
        "Metrics for Versicolor:\n",
        "Precision: {precision_for_Versicolor:.4f}\n",
        "Accuracy: {accuracy_for_Versicolor:.4f}\n",
        "Recall: {recall_for_Versicolor:.4f}\n",
        "F1 Score: {F1_score_for_Versicolor:.4f}\n",
        "Specificity: {specificity_for_Versicolor:.4f}\n",
        "\"\"\"\n",
        "\n",
        "# Métriques pour la classe 'Virginica'\n",
        "virginica_metrics = f\"\"\"\n",
        "Metrics for Virginica:\n",
        "Precision: {precision_for_Virginica:.4f}\n",
        "Accuracy: {accuracy_for_Virginica:.4f}\n",
        "Recall: {recall_for_Virginica:.4f}\n",
        "F1 Score: {F1_score_for_Virginica:.4f}\n",
        "Specificity: {specificity_for_Virginica:.4f}\n",
        "\"\"\"\n",
        "\n",
        "print(setosa_metrics)\n",
        "print(versicolor_metrics)\n",
        "print(virginica_metrics)\n"
      ]
    },
    {
      "cell_type": "markdown",
      "metadata": {
        "id": "M6Eb0Z36kBZs"
      },
      "source": [
        "# Prédictions le jeu de test."
      ]
    },
    {
      "cell_type": "code",
      "execution_count": 75,
      "metadata": {
        "id": "YK00ufqlh7LE"
      },
      "outputs": [],
      "source": [
        "test['predict'] = test.apply(lambda row: to_predict(result_tree, row), axis=1)\n"
      ]
    },
    {
      "cell_type": "code",
      "execution_count": 76,
      "metadata": {
        "colab": {
          "base_uri": "https://localhost:8080/",
          "height": 990
        },
        "id": "u7B8YQQPiWmG",
        "outputId": "727ac31e-c9e9-4f3d-f0f3-46dc20d0855c"
      },
      "outputs": [
        {
          "data": {
            "text/html": [
              "<div>\n",
              "<style scoped>\n",
              "    .dataframe tbody tr th:only-of-type {\n",
              "        vertical-align: middle;\n",
              "    }\n",
              "\n",
              "    .dataframe tbody tr th {\n",
              "        vertical-align: top;\n",
              "    }\n",
              "\n",
              "    .dataframe thead th {\n",
              "        text-align: right;\n",
              "    }\n",
              "</style>\n",
              "<table border=\"1\" class=\"dataframe\">\n",
              "  <thead>\n",
              "    <tr style=\"text-align: right;\">\n",
              "      <th></th>\n",
              "      <th>variety</th>\n",
              "      <th>predict</th>\n",
              "    </tr>\n",
              "  </thead>\n",
              "  <tbody>\n",
              "    <tr>\n",
              "      <th>122</th>\n",
              "      <td>Virginica</td>\n",
              "      <td>Versicolor</td>\n",
              "    </tr>\n",
              "    <tr>\n",
              "      <th>98</th>\n",
              "      <td>Versicolor</td>\n",
              "      <td>Versicolor</td>\n",
              "    </tr>\n",
              "    <tr>\n",
              "      <th>128</th>\n",
              "      <td>Virginica</td>\n",
              "      <td>Versicolor</td>\n",
              "    </tr>\n",
              "    <tr>\n",
              "      <th>93</th>\n",
              "      <td>Versicolor</td>\n",
              "      <td>Versicolor</td>\n",
              "    </tr>\n",
              "    <tr>\n",
              "      <th>11</th>\n",
              "      <td>Setosa</td>\n",
              "      <td>Setosa</td>\n",
              "    </tr>\n",
              "    <tr>\n",
              "      <th>96</th>\n",
              "      <td>Versicolor</td>\n",
              "      <td>Versicolor</td>\n",
              "    </tr>\n",
              "    <tr>\n",
              "      <th>48</th>\n",
              "      <td>Setosa</td>\n",
              "      <td>Setosa</td>\n",
              "    </tr>\n",
              "    <tr>\n",
              "      <th>21</th>\n",
              "      <td>Setosa</td>\n",
              "      <td>Setosa</td>\n",
              "    </tr>\n",
              "    <tr>\n",
              "      <th>67</th>\n",
              "      <td>Versicolor</td>\n",
              "      <td>Versicolor</td>\n",
              "    </tr>\n",
              "    <tr>\n",
              "      <th>121</th>\n",
              "      <td>Virginica</td>\n",
              "      <td>Versicolor</td>\n",
              "    </tr>\n",
              "    <tr>\n",
              "      <th>83</th>\n",
              "      <td>Versicolor</td>\n",
              "      <td>Versicolor</td>\n",
              "    </tr>\n",
              "    <tr>\n",
              "      <th>43</th>\n",
              "      <td>Setosa</td>\n",
              "      <td>Setosa</td>\n",
              "    </tr>\n",
              "    <tr>\n",
              "      <th>37</th>\n",
              "      <td>Setosa</td>\n",
              "      <td>Setosa</td>\n",
              "    </tr>\n",
              "    <tr>\n",
              "      <th>149</th>\n",
              "      <td>Virginica</td>\n",
              "      <td>Versicolor</td>\n",
              "    </tr>\n",
              "    <tr>\n",
              "      <th>40</th>\n",
              "      <td>Setosa</td>\n",
              "      <td>Setosa</td>\n",
              "    </tr>\n",
              "    <tr>\n",
              "      <th>131</th>\n",
              "      <td>Virginica</td>\n",
              "      <td>Versicolor</td>\n",
              "    </tr>\n",
              "    <tr>\n",
              "      <th>29</th>\n",
              "      <td>Setosa</td>\n",
              "      <td>Setosa</td>\n",
              "    </tr>\n",
              "    <tr>\n",
              "      <th>108</th>\n",
              "      <td>Virginica</td>\n",
              "      <td>Versicolor</td>\n",
              "    </tr>\n",
              "    <tr>\n",
              "      <th>33</th>\n",
              "      <td>Setosa</td>\n",
              "      <td>Setosa</td>\n",
              "    </tr>\n",
              "    <tr>\n",
              "      <th>110</th>\n",
              "      <td>Virginica</td>\n",
              "      <td>Versicolor</td>\n",
              "    </tr>\n",
              "    <tr>\n",
              "      <th>117</th>\n",
              "      <td>Virginica</td>\n",
              "      <td>Versicolor</td>\n",
              "    </tr>\n",
              "    <tr>\n",
              "      <th>59</th>\n",
              "      <td>Versicolor</td>\n",
              "      <td>Versicolor</td>\n",
              "    </tr>\n",
              "    <tr>\n",
              "      <th>116</th>\n",
              "      <td>Virginica</td>\n",
              "      <td>Versicolor</td>\n",
              "    </tr>\n",
              "    <tr>\n",
              "      <th>138</th>\n",
              "      <td>Virginica</td>\n",
              "      <td>Versicolor</td>\n",
              "    </tr>\n",
              "    <tr>\n",
              "      <th>7</th>\n",
              "      <td>Setosa</td>\n",
              "      <td>Setosa</td>\n",
              "    </tr>\n",
              "    <tr>\n",
              "      <th>134</th>\n",
              "      <td>Virginica</td>\n",
              "      <td>Versicolor</td>\n",
              "    </tr>\n",
              "    <tr>\n",
              "      <th>139</th>\n",
              "      <td>Virginica</td>\n",
              "      <td>Versicolor</td>\n",
              "    </tr>\n",
              "    <tr>\n",
              "      <th>89</th>\n",
              "      <td>Versicolor</td>\n",
              "      <td>Versicolor</td>\n",
              "    </tr>\n",
              "    <tr>\n",
              "      <th>42</th>\n",
              "      <td>Setosa</td>\n",
              "      <td>Setosa</td>\n",
              "    </tr>\n",
              "    <tr>\n",
              "      <th>16</th>\n",
              "      <td>Setosa</td>\n",
              "      <td>Setosa</td>\n",
              "    </tr>\n",
              "  </tbody>\n",
              "</table>\n",
              "</div>"
            ],
            "text/plain": [
              "        variety     predict\n",
              "122   Virginica  Versicolor\n",
              "98   Versicolor  Versicolor\n",
              "128   Virginica  Versicolor\n",
              "93   Versicolor  Versicolor\n",
              "11       Setosa      Setosa\n",
              "96   Versicolor  Versicolor\n",
              "48       Setosa      Setosa\n",
              "21       Setosa      Setosa\n",
              "67   Versicolor  Versicolor\n",
              "121   Virginica  Versicolor\n",
              "83   Versicolor  Versicolor\n",
              "43       Setosa      Setosa\n",
              "37       Setosa      Setosa\n",
              "149   Virginica  Versicolor\n",
              "40       Setosa      Setosa\n",
              "131   Virginica  Versicolor\n",
              "29       Setosa      Setosa\n",
              "108   Virginica  Versicolor\n",
              "33       Setosa      Setosa\n",
              "110   Virginica  Versicolor\n",
              "117   Virginica  Versicolor\n",
              "59   Versicolor  Versicolor\n",
              "116   Virginica  Versicolor\n",
              "138   Virginica  Versicolor\n",
              "7        Setosa      Setosa\n",
              "134   Virginica  Versicolor\n",
              "139   Virginica  Versicolor\n",
              "89   Versicolor  Versicolor\n",
              "42       Setosa      Setosa\n",
              "16       Setosa      Setosa"
            ]
          },
          "execution_count": 76,
          "metadata": {},
          "output_type": "execute_result"
        }
      ],
      "source": [
        "test.iloc[:,-2:]"
      ]
    },
    {
      "cell_type": "code",
      "execution_count": 77,
      "metadata": {
        "id": "vy26UveA7LGS"
      },
      "outputs": [],
      "source": [
        "# Calcul des TP, TN, FP, FN pour la classe 'Setosa'\n",
        "TP_Setosa = len(test[(test['variety'] == 'Setosa') & (test['predict'] == 'Setosa')])\n",
        "TN_Setosa = len(test[(test['variety'] != 'Setosa') & (test['predict'] != 'Setosa')])\n",
        "FP_Setosa = len(test[(test['variety'] != 'Setosa') & (test['predict'] == 'Setosa')])\n",
        "FN_Setosa = len(test[(test['variety'] == 'Setosa') & (test['predict'] != 'Setosa')])\n",
        "\n",
        "# Calcul des TP, TN, FP, FN pour la classe 'Versicolor'\n",
        "TP_Versicolor = len(test[(test['variety'] == 'Versicolor') & (test['predict'] == 'Versicolor')])\n",
        "TN_Versicolor = len(test[(test['variety'] != 'Versicolor') & (test['predict'] != 'Versicolor')])\n",
        "FP_Versicolor = len(test[(test['variety'] != 'Versicolor') & (test['predict'] == 'Versicolor')])\n",
        "FN_Versicolor = len(test[(test['variety'] == 'Versicolor') & (test['predict'] != 'Versicolor')])\n",
        "\n",
        "# Calcul des TP, TN, FP, FN pour la classe 'Virginica'r\n",
        "TP_Virginica = len(test[(test['variety'] == 'Virginica') & (test['predict'] == 'Virginica')])\n",
        "TN_Virginica = len(test[(test['variety'] != 'Virginica') & (test['predict'] != 'Virginica')])\n",
        "FP_Virginica = len(test[(test['variety'] != 'Virginica') & (test['predict'] == 'Virginica')])\n",
        "FN_Virginica = len(test[(test['variety'] == 'Virginica') & (test['predict'] != 'Virginica')])\n"
      ]
    },
    {
      "cell_type": "code",
      "execution_count": 78,
      "metadata": {
        "colab": {
          "base_uri": "https://localhost:8080/"
        },
        "id": "JjoZmpjp7S1e",
        "outputId": "6d329e0b-bbe1-489c-96ae-6da4117ce319"
      },
      "outputs": [
        {
          "name": "stdout",
          "output_type": "stream",
          "text": [
            "\n",
            "Metrics for Setosa:\n",
            "Precision: 1.0000\n",
            "Accuracy: 1.0000\n",
            "Recall: 1.0000\n",
            "F1 Score: 1.0000\n",
            "Specificity: 1.0000\n",
            "\n",
            "\n",
            "Metrics for Versicolor:\n",
            "Precision: 0.5455\n",
            "Accuracy: 0.7000\n",
            "Recall: 0.9767\n",
            "F1 Score: 0.7000\n",
            "Specificity: 0.5455\n",
            "\n",
            "\n",
            "Metrics for Virginica:\n",
            "Precision: 0.7500\n",
            "Accuracy: 0.7000\n",
            "Recall: 0.0789\n",
            "F1 Score: 0.1429\n",
            "Specificity: 0.9878\n",
            "\n"
          ]
        }
      ],
      "source": [
        "# Métriques pour la classe 'Setosa'\n",
        "setosa_metrics = f\"\"\"\n",
        "Metrics for Setosa:\n",
        "Precision: {precision_for_Setosa:.4f}\n",
        "Accuracy: {accuracy_for_Setosa:.4f}\n",
        "Recall: {recall_for_Setosa:.4f}\n",
        "F1 Score: {F1_score_for_Setosa:.4f}\n",
        "Specificity: {specificity_for_Setosa:.4f}\n",
        "\"\"\"\n",
        "\n",
        "# Métriques pour la classe 'Versicolor'\n",
        "versicolor_metrics = f\"\"\"\n",
        "Metrics for Versicolor:\n",
        "Precision: {precision_for_Versicolor:.4f}\n",
        "Accuracy: {accuracy_for_Versicolor:.4f}\n",
        "Recall: {recall_for_Versicolor:.4f}\n",
        "F1 Score: {F1_score_for_Versicolor:.4f}\n",
        "Specificity: {specificity_for_Versicolor:.4f}\n",
        "\"\"\"\n",
        "\n",
        "# Métriques pour la classe 'Virginica'\n",
        "virginica_metrics = f\"\"\"\n",
        "Metrics for Virginica:\n",
        "Precision: {precision_for_Virginica:.4f}\n",
        "Accuracy: {accuracy_for_Virginica:.4f}\n",
        "Recall: {recall_for_Virginica:.4f}\n",
        "F1 Score: {F1_score_for_Virginica:.4f}\n",
        "Specificity: {specificity_for_Virginica:.4f}\n",
        "\"\"\"\n",
        "\n",
        "print(setosa_metrics)\n",
        "print(versicolor_metrics)\n",
        "print(virginica_metrics)\n"
      ]
    },
    {
      "cell_type": "code",
      "execution_count": 79,
      "metadata": {
        "colab": {
          "base_uri": "https://localhost:8080/"
        },
        "id": "Ys7yCID68ONf",
        "outputId": "e5499b72-93a9-412a-b472-4bd927cba103"
      },
      "outputs": [
        {
          "data": {
            "text/plain": [
              "array([[39,  0,  0],\n",
              "       [ 0, 42,  1],\n",
              "       [ 0, 35,  3]], dtype=int64)"
            ]
          },
          "execution_count": 79,
          "metadata": {},
          "output_type": "execute_result"
        }
      ],
      "source": [
        "confusion_matrix(train['variety'], train['predict'])"
      ]
    }
  ],
  "metadata": {
    "colab": {
      "provenance": []
    },
    "kernelspec": {
      "display_name": "Python 3",
      "name": "python3"
    },
    "language_info": {
      "name": "python"
    }
  },
  "nbformat": 4,
  "nbformat_minor": 0
}
